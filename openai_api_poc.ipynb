{
 "cells": [
  {
   "cell_type": "markdown",
   "metadata": {},
   "source": [
    "Necessary installs"
   ]
  },
  {
   "cell_type": "code",
   "execution_count": 4,
   "metadata": {},
   "outputs": [
    {
     "name": "stdout",
     "output_type": "stream",
     "text": [
      "Requirement already satisfied: openai in /usr/local/python/3.10.13/lib/python3.10/site-packages (1.36.1)\n",
      "Requirement already satisfied: anyio<5,>=3.5.0 in /home/codespace/.local/lib/python3.10/site-packages (from openai) (4.4.0)\n",
      "Requirement already satisfied: distro<2,>=1.7.0 in /usr/local/python/3.10.13/lib/python3.10/site-packages (from openai) (1.9.0)\n",
      "Requirement already satisfied: httpx<1,>=0.23.0 in /home/codespace/.local/lib/python3.10/site-packages (from openai) (0.27.0)\n",
      "Requirement already satisfied: pydantic<3,>=1.9.0 in /usr/local/python/3.10.13/lib/python3.10/site-packages (from openai) (2.8.2)\n",
      "Requirement already satisfied: sniffio in /home/codespace/.local/lib/python3.10/site-packages (from openai) (1.3.1)\n",
      "Requirement already satisfied: tqdm>4 in /usr/local/python/3.10.13/lib/python3.10/site-packages (from openai) (4.66.4)\n",
      "Requirement already satisfied: typing-extensions<5,>=4.7 in /home/codespace/.local/lib/python3.10/site-packages (from openai) (4.12.2)\n",
      "Requirement already satisfied: idna>=2.8 in /home/codespace/.local/lib/python3.10/site-packages (from anyio<5,>=3.5.0->openai) (3.7)\n",
      "Requirement already satisfied: exceptiongroup>=1.0.2 in /home/codespace/.local/lib/python3.10/site-packages (from anyio<5,>=3.5.0->openai) (1.2.1)\n",
      "Requirement already satisfied: certifi in /home/codespace/.local/lib/python3.10/site-packages (from httpx<1,>=0.23.0->openai) (2024.7.4)\n",
      "Requirement already satisfied: httpcore==1.* in /home/codespace/.local/lib/python3.10/site-packages (from httpx<1,>=0.23.0->openai) (1.0.5)\n",
      "Requirement already satisfied: h11<0.15,>=0.13 in /home/codespace/.local/lib/python3.10/site-packages (from httpcore==1.*->httpx<1,>=0.23.0->openai) (0.14.0)\n",
      "Requirement already satisfied: annotated-types>=0.4.0 in /usr/local/python/3.10.13/lib/python3.10/site-packages (from pydantic<3,>=1.9.0->openai) (0.7.0)\n",
      "Requirement already satisfied: pydantic-core==2.20.1 in /usr/local/python/3.10.13/lib/python3.10/site-packages (from pydantic<3,>=1.9.0->openai) (2.20.1)\n",
      "Note: you may need to restart the kernel to use updated packages.\n"
     ]
    }
   ],
   "source": [
    "%pip install openai"
   ]
  },
  {
   "cell_type": "code",
   "execution_count": 7,
   "metadata": {},
   "outputs": [
    {
     "name": "stdout",
     "output_type": "stream",
     "text": [
      "Collecting python-dotenv\n",
      "  Downloading python_dotenv-1.0.1-py3-none-any.whl.metadata (23 kB)\n",
      "Downloading python_dotenv-1.0.1-py3-none-any.whl (19 kB)\n",
      "Installing collected packages: python-dotenv\n",
      "\u001b[33m  WARNING: The script dotenv is installed in '/usr/local/python/3.10.13/bin' which is not on PATH.\n",
      "  Consider adding this directory to PATH or, if you prefer to suppress this warning, use --no-warn-script-location.\u001b[0m\u001b[33m\n",
      "\u001b[0mSuccessfully installed python-dotenv-1.0.1\n",
      "Note: you may need to restart the kernel to use updated packages.\n"
     ]
    }
   ],
   "source": [
    "%pip install python-dotenv\n"
   ]
  },
  {
   "cell_type": "code",
   "execution_count": 3,
   "metadata": {},
   "outputs": [
    {
     "name": "stdout",
     "output_type": "stream",
     "text": [
      "Requirement already satisfied: pandas in /home/codespace/.local/lib/python3.10/site-packages (2.2.2)\n",
      "Requirement already satisfied: numpy>=1.22.4 in /home/codespace/.local/lib/python3.10/site-packages (from pandas) (2.0.0)\n",
      "Requirement already satisfied: python-dateutil>=2.8.2 in /home/codespace/.local/lib/python3.10/site-packages (from pandas) (2.9.0.post0)\n",
      "Requirement already satisfied: pytz>=2020.1 in /home/codespace/.local/lib/python3.10/site-packages (from pandas) (2024.1)\n",
      "Requirement already satisfied: tzdata>=2022.7 in /home/codespace/.local/lib/python3.10/site-packages (from pandas) (2024.1)\n",
      "Requirement already satisfied: six>=1.5 in /home/codespace/.local/lib/python3.10/site-packages (from python-dateutil>=2.8.2->pandas) (1.16.0)\n",
      "Note: you may need to restart the kernel to use updated packages.\n"
     ]
    }
   ],
   "source": [
    "%pip install pandas"
   ]
  },
  {
   "cell_type": "markdown",
   "metadata": {},
   "source": [
    "Connecting to LLM via OpenAI API and submitting prompt"
   ]
  },
  {
   "cell_type": "code",
   "execution_count": 33,
   "metadata": {},
   "outputs": [
    {
     "name": "stdout",
     "output_type": "stream",
     "text": [
      "Data loaded successfully!\n",
      "Analysis Result:\n",
      "Analyzing the provided dataset on electric and plug-in hybrid vehicles in Washington state reveals several insights regarding electric vehicle (EV) types, manufacturer distribution, eligibility for Clean Alternative Fuel Vehicle (CAFV), and geographic trends.\n",
      "\n",
      "### Key Insights:\n",
      "\n",
      "1. **Types of Electric Vehicles**:\n",
      "   - The dataset includes both Battery Electric Vehicles (BEVs) and Plug-in Hybrid Electric Vehicles (PHEVs).\n",
      "   - A significant number of vehicles are BEVs, with brands like TESLA dominating the listings, indicating a strong consumer preference for fully electric vehicles.\n",
      "\n",
      "2. **Clean Alternative Fuel Vehicle (CAFV) Eligibility**:\n",
      "   - Many PHEVs are marked as \"Not eligible due to low battery range,\" indicating that they do not meet state criteria for clean fuel benefits.\n",
      "   - Among the BEVs, most vehicles are classified as eligible for CAFV, suggesting that manufacturers are producing EVs that meet or exceed the necessary performance benchmarks.\n",
      "\n",
      "3. **Electric Range**:\n",
      "   - The electric range of vehicles varies widely, with BEVs typically offering much higher ranges compared to PHEVs. For example, Tesla Model 3s often feature ranges over 200 miles, while PHEVs like the Mitsubishi Outlander often fall below 40 miles.\n",
      "   - Many vehicles have an electric range of zero, which usually suggests that the range has not been measured or reported. This is particularly notable in newer models.\n",
      "\n",
      "4. **Geographic Distribution**:\n",
      "   - There is a concentration of vehicles in King and Snohomish counties, which are urbanized areas with access to charging infrastructure.\n",
      "   - Certain cities, such as Seattle and Renton, have a particularly high density of electric vehicles, possibly correlating with higher income levels and greater environmental awareness.\n",
      "\n",
      "5. **Pricing Information**:\n",
      "   - The dataset reflects a range of base MSRP values, with several entries listed as 0.0. This can indicate either that the vehicle's price is unknown or that it is unreported.\n",
      "   - Electric vehicles like the Tesla Model S and Tesla Model 3 come with higher price tags (e.g., the MSRP of $69,900 for a Model S), indicating a price segmentation in the market.\n",
      "\n",
      "6. **Timestamp of Models**:\n",
      "   - The dataset includes vehicles from various model years, with a notable number from recent years (2021-2024). This indicates a growing market for electric vehicles as technology advances.\n",
      "   - Several older models (2012-2018) are present, indicating that users may still be using earlier-generation EVs, but newer purchases are likely driving market growth.\n",
      "\n",
      "7. **Utility Providers**:\n",
      "   - The dataset shows a high correlation of vehicle ownership with utility providers like Puget Sound Energy, which suggests that these utility companies might offer incentives or programs supporting EV adoption.\n",
      "   - Some vehicles are served by different municipal utilities, indicating localized efforts to promote electric vehicle adoption.\n",
      "\n",
      "### Summary:\n",
      "Overall, the dataset reflects a dynamic and growing EV market in Washington, particularly in urban areas. Electric vehicles, predominantly BEVs from well-known manufacturers, tend to have higher eligibility for government incentives. The existence of a diverse range of models, prices, and electric ranges suggests an evolving landscape of electric mobility that may continue to shift as technology and availability increase. Additionally, utility providers may play a crucial role in supporting and expanding this trend.\n"
     ]
    }
   ],
   "source": [
    "import pandas as pd\n",
    "from dotenv import load_dotenv\n",
    "import os\n",
    "import openai\n",
    "\n",
    "# Load environment variables from .env file\n",
    "load_dotenv()\n",
    "\n",
    "# Retrieve the API key from environment variables\n",
    "openai.api_key = os.getenv('OPENAI_API_KEY')\n",
    "\n",
    "# URL of the dataset\n",
    "csv_url = \"https://data.wa.gov/api/views/f6w7-q2d2/rows.csv?accessType=DOWNLOAD\"\n",
    "\n",
    "# Load the dataset into a DataFrame\n",
    "df = pd.read_csv(csv_url)\n",
    "\n",
    "# Display the first few rows of the DataFrame\n",
    "print(\"Data loaded successfully!\")\n",
    "#print(df.head())\n",
    "\n",
    "# Convert the DataFrame to a string format suitable for the API\n",
    "data_string = df.head(500).to_string(index=False)  # Limit to first 10 rows for simplicity\n",
    "\n",
    "# Define a function to interact with OpenAI's Chat API\n",
    "def analyze_data_with_openai(text):\n",
    "    prompt = f\"Analyze the following dataset and provide insights:\\n{text}\\n\\nInsights:\"\n",
    "    \n",
    "    response = openai.ChatCompletion.create(\n",
    "        model=\"gpt-4o-mini\" , # You can also use \"gpt-4\" for newer model\n",
    "        messages=[\n",
    "            {\"role\": \"system\", \"content\": \"You are a helpful assistant.\"},\n",
    "            {\"role\": \"user\", \"content\": prompt}\n",
    "        ],\n",
    "        max_tokens=10000  # Adjust based on the length of the summary you want\n",
    "    )\n",
    "    \n",
    "    return response.choices[0].message['content'].strip()\n",
    "\n",
    "# Perform the analysis\n",
    "analysis_result = analyze_data_with_openai(data_string)\n",
    "\n",
    "print(\"Analysis Result:\")\n",
    "print(analysis_result)\n"
   ]
  },
  {
   "cell_type": "code",
   "execution_count": 32,
   "metadata": {},
   "outputs": [
    {
     "name": "stdout",
     "output_type": "stream",
     "text": [
      "Data loaded successfully!\n",
      "Analysis Result:\n",
      "To analyze the dataset for Tesla registrations over the years, we will:\n",
      "\n",
      "1. Extract all records where the Make is \"TESLA\".\n",
      "2. Count the number of registrations for each model year.\n",
      "3. Identify peak years and observe trends in registration numbers.\n",
      "\n",
      "### Summary of Tesla Registrations by Year\n",
      "\n",
      "- **2013**: 6 registrations\n",
      "- **2014**: 4 registrations\n",
      "- **2015**: 12 registrations\n",
      "- **2016**: 9 registrations\n",
      "- **2017**: 12 registrations\n",
      "- **2018**: 16 registrations\n",
      "- **2019**: 21 registrations\n",
      "- **2020**: 34 registrations\n",
      "- **2021**: 34 registrations\n",
      "- **2022**: 28 registrations\n",
      "- **2023**: 30 registrations\n",
      "- **2024**: 9 registrations\n",
      "\n",
      "### Highest Registration Years\n",
      "\n",
      "The highest registration years for Tesla are **2020** and **2021**, both with **34 registrations**.\n",
      "\n",
      "### Trend Analysis Over the Years\n",
      "\n",
      "- **2013-2015**: The registrations gradually increased from 6 in 2013 to 12 in 2015.\n",
      "- **2016-2018**: A notable uptick to 9 in 2016, 12 in 2017, and then peaking at 16 in 2018, indicating growing consumer adoption.\n",
      "- **2019**: The registrations sharply increased to 21, demonstrating a strong upward trend as Tesla's popularity continued to rise.\n",
      "- **2020-2021**: The most significant registrations occurred during these years, with both years having 34 registrations, suggesting significant market penetration and increased availability of models.\n",
      "- **2022**: A slight decline to 28 registrations was noted but still remained high.\n",
      "- **2023**: Registrations bounced back up to 30, indicating continued interest.\n",
      "- **2024**: A projected drop in registrations to 9, indicating it may be premature, as the data may still be incomplete for the year.\n",
      "\n",
      "### Conclusion\n",
      "\n",
      "The trend shows that Tesla registrations have generally increased over the years, aligning with the company's expansion in product offerings and market reach. The peak years (2020 and 2021) underscore robust appraise and more widespread acceptance of electric vehicles during that period. The slight fluctuations in more recent years may suggest market adjustments or upcoming model changes. Nonetheless, Tesla remains a key player in the electric vehicle market, as evidenced by its substantial registration numbers.\n"
     ]
    }
   ],
   "source": [
    "import pandas as pd\n",
    "from dotenv import load_dotenv\n",
    "import os\n",
    "import openai\n",
    "\n",
    "# Load environment variables from .env file\n",
    "load_dotenv()\n",
    "\n",
    "# Retrieve the API key from environment variables\n",
    "openai.api_key = os.getenv('OPENAI_API_KEY')\n",
    "\n",
    "# URL of the dataset\n",
    "csv_url = \"https://data.wa.gov/api/views/f6w7-q2d2/rows.csv?accessType=DOWNLOAD\"\n",
    "\n",
    "# Load the dataset into a DataFrame\n",
    "df = pd.read_csv(csv_url)\n",
    "print(\"Data loaded successfully!\")\n",
    "#print(df.head())\n",
    "\n",
    "# Convert the DataFrame to a string format suitable for the API\n",
    "data_string = df.head(500).to_string(index=False)  # Adjusted to include the full dataset\n",
    "\n",
    "# Define a function to interact with OpenAI's Chat API\n",
    "def analyze_data_with_openai(text, prompt):\n",
    "    messages = [{\"role\": \"system\", \"content\": \"You are a helpful assistant.\"}]\n",
    "    # Add initial dataset description\n",
    "    messages.append({\"role\": \"user\", \"content\": f\"Here is a dataset: \\n{text}\"})\n",
    "    # Add questions based on user's requirement\n",
    "    for prompt in prompts:\n",
    "        messages.append({\"role\": \"user\", \"content\": prompt})\n",
    "\n",
    "    response = openai.ChatCompletion.create(\n",
    "        model=\"gpt-4o-mini\",  # Using a specific model version\n",
    "        messages=messages,\n",
    "        max_tokens=15000  # Adjust based on the length of the summary you want\n",
    "    )\n",
    "\n",
    "    return response.choices[-1].message['content'].strip()  # Return the last message which should be the answer\n",
    "\n",
    "# Questions to be answered by the model\n",
    "prompts = [\n",
    "    \"Examine the dataset to find out which year or years had the highest registrations for Tesla make. Summarize the trend over the years for Tesla.\"\n",
    "   \n",
    "]\n",
    "\n",
    "# Perform the analysis\n",
    "analysis_result = analyze_data_with_openai(data_string, prompts)\n",
    "\n",
    "print(\"Analysis Result:\")\n",
    "print(analysis_result)\n"
   ]
  }
 ],
 "metadata": {
  "kernelspec": {
   "display_name": "Python 3",
   "language": "python",
   "name": "python3"
  },
  "language_info": {
   "codemirror_mode": {
    "name": "ipython",
    "version": 3
   },
   "file_extension": ".py",
   "mimetype": "text/x-python",
   "name": "python",
   "nbconvert_exporter": "python",
   "pygments_lexer": "ipython3",
   "version": "3.10.13"
  }
 },
 "nbformat": 4,
 "nbformat_minor": 2
}
